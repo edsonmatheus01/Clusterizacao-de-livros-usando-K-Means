{
  "nbformat": 4,
  "nbformat_minor": 0,
  "metadata": {
    "colab": {
      "provenance": []
    },
    "kernelspec": {
      "name": "python3",
      "display_name": "Python 3"
    },
    "language_info": {
      "name": "python"
    }
  },
  "cells": [
    {
      "cell_type": "code",
      "execution_count": null,
      "metadata": {
        "id": "s3IcsT83jrfL"
      },
      "outputs": [],
      "source": [
        "# Importar as bibliotecas necessárias\n",
        "import pandas as pd\n",
        "import numpy as np\n",
        "import matplotlib.pyplot as plt\n",
        "from sklearn.cluster import KMeans\n",
        "from sklearn.feature_extraction.text import TfidfVectorizer\n"
      ]
    },
    {
      "cell_type": "code",
      "source": [
        "# Importar as bibliotecas necessárias\n",
        "import csv\n",
        "\n",
        "# Abrir um arquivo CSV em modo de escrita\n",
        "with open('livros.csv', mode='w', newline='') as arquivo_csv:\n",
        "    \n",
        "    # Criar um objeto para escrever no arquivo CSV\n",
        "    escritor_csv = csv.writer(arquivo_csv, delimiter=',', quotechar='\"', quoting=csv.QUOTE_MINIMAL)\n",
        "    \n",
        "    # Escrever o cabeçalho do arquivo CSV\n",
        "    escritor_csv.writerow(['titulo', 'autor', 'sinopse'])\n",
        "    \n",
        "    # Escrever as informações de cada livro no arquivo CSV\n",
        "    escritor_csv.writerow(['Clean Code', 'Robert C. Martin', 'Com uma abordagem simples e prática, este livro apresenta técnicas, princípios e práticas para ajudar os desenvolvedores a escreverem códigos limpos e eficientes.'])\n",
        "    escritor_csv.writerow(['The Pragmatic Programmer', 'Andrew Hunt e David Thomas', 'Este livro oferece conselhos e técnicas para programadores de todos os níveis de habilidade, incluindo dicas sobre como evitar armadilhas comuns e melhorar a produtividade.'])\n",
        "    escritor_csv.writerow(['Code Complete', 'Steve McConnell', 'O autor apresenta técnicas e práticas comprovadas para melhorar a qualidade do software, desde a fase de planejamento até a fase de testes, passando pela codificação e pelo design.'])\n",
        "    escritor_csv.writerow(['Refactoring', 'Martin Fowler', 'Este livro apresenta técnicas de refatoração para melhorar o design e a qualidade do código, incluindo exemplos práticos e explicações detalhadas.'])\n",
        "    escritor_csv.writerow(['Design Patterns', 'Erich Gamma, Richard Helm, Ralph Johnson e John Vlissides', 'Este livro é um guia abrangente sobre os padrões de design de software mais importantes, incluindo exemplos de código em Java e C++.'])\n",
        "    escritor_csv.writerow(['Clean Architecture', 'Robert C. Martin', 'Este livro apresenta uma abordagem prática para o design de software baseado em arquiteturas limpas, com exemplos e casos de uso do mundo real.'])\n"
      ],
      "metadata": {
        "id": "z_Q8k1CGjwyf"
      },
      "execution_count": null,
      "outputs": []
    },
    {
      "cell_type": "code",
      "source": [
        "# Ler os dados dos livros\n",
        "livros = pd.read_csv('livros.csv')\n",
        "\n",
        "# Preparar os dados para clustering\n",
        "vectorizer = TfidfVectorizer(stop_words='english')\n",
        "X = vectorizer.fit_transform(livros['sinopse'])\n",
        "\n",
        "# Aplicar o algoritmo K-means para criar clusters\n",
        "kmeans = KMeans(n_clusters=4, random_state=0)\n",
        "kmeans.fit(X)\n",
        "\n",
        "# Adicionar as informações dos clusters de volta ao dataframe original\n",
        "livros['cluster'] = kmeans.labels_\n",
        "\n",
        "# Imprimir os livros de cada cluster\n",
        "for i in range(4):\n",
        "    print(f'Cluster {i}:')\n",
        "    print(livros[livros['cluster'] == i]['titulo'])\n",
        "    print('\\n')"
      ],
      "metadata": {
        "colab": {
          "base_uri": "https://localhost:8080/"
        },
        "id": "dH31i5r1jyEN",
        "outputId": "8ec8874e-6799-4bc9-b402-fca6d6e1a841"
      },
      "execution_count": null,
      "outputs": [
        {
          "output_type": "stream",
          "name": "stderr",
          "text": [
            "/usr/local/lib/python3.10/dist-packages/sklearn/cluster/_kmeans.py:870: FutureWarning: The default value of `n_init` will change from 10 to 'auto' in 1.4. Set the value of `n_init` explicitly to suppress the warning\n",
            "  warnings.warn(\n"
          ]
        },
        {
          "output_type": "stream",
          "name": "stdout",
          "text": [
            "Cluster 0:\n",
            "0            Clean Code\n",
            "5    Clean Architecture\n",
            "Name: titulo, dtype: object\n",
            "\n",
            "\n",
            "Cluster 1:\n",
            "3        Refactoring\n",
            "4    Design Patterns\n",
            "Name: titulo, dtype: object\n",
            "\n",
            "\n",
            "Cluster 2:\n",
            "1    The Pragmatic Programmer\n",
            "Name: titulo, dtype: object\n",
            "\n",
            "\n",
            "Cluster 3:\n",
            "2    Code Complete\n",
            "Name: titulo, dtype: object\n",
            "\n",
            "\n"
          ]
        }
      ]
    }
  ]
}